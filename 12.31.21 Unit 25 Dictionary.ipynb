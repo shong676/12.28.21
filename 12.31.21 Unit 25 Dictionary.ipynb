{
 "cells": [
  {
   "cell_type": "markdown",
   "id": "6e6512ce",
   "metadata": {},
   "source": [
    "# 딕셔너리 응용하기"
   ]
  },
  {
   "cell_type": "markdown",
   "id": "fd283d8a",
   "metadata": {},
   "source": [
    ">디셔너리에 키-값 쌍을 추가하는 메서드\n",
    ">- `setdeault`: 키-값 쌍 추가\n",
    ">- `update`: 키의 값 수정. 키가 없으면 키-값 쌍 추가"
   ]
  },
  {
   "cell_type": "markdown",
   "id": "2ef59b81",
   "metadata": {},
   "source": [
    "## setdefault(키) 로 딕셔너리에 키-값 쌍으로 추가"
   ]
  },
  {
   "cell_type": "code",
   "execution_count": 7,
   "id": "9bcf774b",
   "metadata": {},
   "outputs": [
    {
     "data": {
      "text/plain": [
       "{'a': 10, 'b': 20, 'c': 30, 'd': 40, 'e': None}"
      ]
     },
     "execution_count": 7,
     "metadata": {},
     "output_type": "execute_result"
    }
   ],
   "source": [
    "x = {'a':10, 'b':20, 'c':30, 'd':40}\n",
    "x.setdefault('e')\n",
    "x"
   ]
  },
  {
   "cell_type": "code",
   "execution_count": 9,
   "id": "ccb85cfb",
   "metadata": {},
   "outputs": [
    {
     "data": {
      "text/plain": [
       "{'a': 10, 'b': 20, 'c': 30, 'd': 40, 'e': None, 'f': 100}"
      ]
     },
     "execution_count": 9,
     "metadata": {},
     "output_type": "execute_result"
    }
   ],
   "source": [
    "x.setdefault('f',100)\n",
    "x"
   ]
  },
  {
   "cell_type": "markdown",
   "id": "c51b57c7",
   "metadata": {},
   "source": [
    "## 딕셔너리에서 키의 값 수정하기\n",
    "- `update(키=값)` 메서드 사용"
   ]
  },
  {
   "cell_type": "code",
   "execution_count": 12,
   "id": "02bee608",
   "metadata": {},
   "outputs": [
    {
     "data": {
      "text/plain": [
       "{'a': 90, 'b': 20, 'c': 30, 'd': 40}"
      ]
     },
     "execution_count": 12,
     "metadata": {},
     "output_type": "execute_result"
    }
   ],
   "source": [
    "x = {'a': 10, 'b': 20, 'c': 30, 'd': 40}\n",
    "x.update(a=90)\n",
    "x"
   ]
  },
  {
   "cell_type": "code",
   "execution_count": 14,
   "id": "aaefd287",
   "metadata": {},
   "outputs": [
    {
     "data": {
      "text/plain": [
       "{'a': 900, 'b': 20, 'c': 30, 'd': 40, 'f': 60}"
      ]
     },
     "execution_count": 14,
     "metadata": {},
     "output_type": "execute_result"
    }
   ],
   "source": [
    "x.update(a = 900, f = 60)\n",
    "x"
   ]
  },
  {
   "cell_type": "markdown",
   "id": "6fafe8fa",
   "metadata": {},
   "source": [
    "> `update(키=값)`은 키가 문자열일 때만.\n",
    "고로, 숫자일 때는 `update(딕셔너리)` "
   ]
  },
  {
   "cell_type": "code",
   "execution_count": 22,
   "id": "fb6635ac",
   "metadata": {},
   "outputs": [
    {
     "data": {
      "text/plain": [
       "{1: 'ONE', 2: 'two', 3: 'THREE'}"
      ]
     },
     "execution_count": 22,
     "metadata": {},
     "output_type": "execute_result"
    }
   ],
   "source": [
    "y = {1: 'one', 2: 'two'}\n",
    "y.update({1: 'ONE', 3:'THREE'})\n",
    "y"
   ]
  },
  {
   "cell_type": "code",
   "execution_count": 24,
   "id": "ce7a23d6",
   "metadata": {},
   "outputs": [
    {
     "data": {
      "text/plain": [
       "{1: 'ONE', 2: 'TWO', 3: 'THREE', 4: 'FOUR'}"
      ]
     },
     "execution_count": 24,
     "metadata": {},
     "output_type": "execute_result"
    }
   ],
   "source": [
    "#리스트와 튜플을 이용하는 방법\n",
    "y.update([[2,'TWO'],[4,'FOUR']])\n",
    "y"
   ]
  },
  {
   "cell_type": "markdown",
   "id": "116e03d5",
   "metadata": {},
   "source": [
    "> `update(반복가능한객체)`는 키-값 쌍으로 된 반복 가능한 객체로 수정합니다.\n",
    ">\n",
    "> 즉, 다음과 같이 키 리스트와 값 리스트를 묶은 `zip` 객체로 값을 수정할 수 있습니다."
   ]
  },
  {
   "cell_type": "code",
   "execution_count": 25,
   "id": "fa7e888b",
   "metadata": {},
   "outputs": [
    {
     "data": {
      "text/plain": [
       "{1: 'one', 2: 'two', 3: 'THREE', 4: 'FOUR'}"
      ]
     },
     "execution_count": 25,
     "metadata": {},
     "output_type": "execute_result"
    }
   ],
   "source": [
    "y.update(zip([1,2], ['one','two']))\n",
    "y"
   ]
  },
  {
   "cell_type": "markdown",
   "id": "e47a48b5",
   "metadata": {},
   "source": [
    "__참고__ | `setdefault`와 `update`의 차이\n",
    "> setdefault는 키-값 쌍 추가만 할 수 있고, 이미 들어있는 키의 값은 수정할 수 없습니다. 하지만 update는 키-값 쌍 추가와 값 수정이 모두 가능합니다. 다음과 같이 setdefault로 이미 들어있는 키 'a'를 90으로 저장해도 'a'의 값은 바뀌지 않습니다."
   ]
  },
  {
   "cell_type": "code",
   "execution_count": 26,
   "id": "1589f315",
   "metadata": {},
   "outputs": [
    {
     "data": {
      "text/plain": [
       "{'a': 10, 'b': 20, 'c': 30, 'd': 40}"
      ]
     },
     "execution_count": 26,
     "metadata": {},
     "output_type": "execute_result"
    }
   ],
   "source": [
    ">>> x = {'a': 10, 'b': 20, 'c': 30, 'd': 40}\n",
    ">>> x.setdefault('a', 90)\n",
    "10\n",
    ">>> x\n",
    "{'a': 10, 'b': 20, 'c': 30, 'd': 40}"
   ]
  },
  {
   "cell_type": "markdown",
   "id": "a536834d",
   "metadata": {},
   "source": [
    ">"
   ]
  },
  {
   "cell_type": "markdown",
   "id": "295aeb2f",
   "metadata": {},
   "source": [
    "## 딕셔너리에서 키-값 쌍 삭제하기"
   ]
  },
  {
   "cell_type": "markdown",
   "id": "66b18e24",
   "metadata": {},
   "source": [
    "- `pop(키)`는 특정 키-값 쌍을 삭제한 뒤 삭제한 값을 반환합니다."
   ]
  },
  {
   "cell_type": "code",
   "execution_count": 30,
   "id": "605079df",
   "metadata": {},
   "outputs": [
    {
     "name": "stdout",
     "output_type": "stream",
     "text": [
      "10\n"
     ]
    },
    {
     "data": {
      "text/plain": [
       "{'b': 20, 'c': 30, 'd': 40}"
      ]
     },
     "execution_count": 30,
     "metadata": {},
     "output_type": "execute_result"
    }
   ],
   "source": [
    "x = {'a': 10, 'b': 20, 'c': 30, 'd': 40}\n",
    "print(x.pop('a'))\n",
    "x"
   ]
  },
  {
   "cell_type": "code",
   "execution_count": 32,
   "id": "8ec36a66",
   "metadata": {},
   "outputs": [
    {
     "data": {
      "text/plain": [
       "0"
      ]
     },
     "execution_count": 32,
     "metadata": {},
     "output_type": "execute_result"
    }
   ],
   "source": [
    "# 값이 없으면 0을 반환\n",
    "x.pop('z', 0)"
   ]
  },
  {
   "cell_type": "code",
   "execution_count": 36,
   "id": "9aa26b29",
   "metadata": {},
   "outputs": [
    {
     "data": {
      "text/plain": [
       "{'b': 20, 'c': 30, 'd': 40}"
      ]
     },
     "execution_count": 36,
     "metadata": {},
     "output_type": "execute_result"
    }
   ],
   "source": [
    "#del를 사용하여 키-값 쌍을 삭제\n",
    "x = {'a': 10, 'b': 20, 'c': 30, 'd': 40}\n",
    "del x['a']\n",
    "x"
   ]
  },
  {
   "cell_type": "markdown",
   "id": "8e1a72a6",
   "metadata": {},
   "source": [
    "## 딕셔너리에서 임의의 키-값 쌍 삭제하기"
   ]
  },
  {
   "cell_type": "markdown",
   "id": "fd1c1149",
   "metadata": {},
   "source": [
    "`popitem()`은 딕셔너리에서 임의의 키-값 쌍을 삭제한 뒤 삭제한 키-값 쌍을 튜플로 반환합니다."
   ]
  },
  {
   "cell_type": "code",
   "execution_count": null,
   "id": "dd356e01",
   "metadata": {},
   "outputs": [],
   "source": [
    "#파이썬 3.6\n",
    ">>> x = {'a': 10, 'b': 20, 'c': 30, 'd': 40}\n",
    ">>> x.popitem()\n",
    "('d', 40)\n",
    ">>> x\n",
    "{'a': 10, 'b': 20, 'c': 30}"
   ]
  },
  {
   "cell_type": "code",
   "execution_count": null,
   "id": "2cab7d1e",
   "metadata": {},
   "outputs": [],
   "source": [
    "#파이썬 3.5\n",
    ">>> x = {'a': 10, 'b': 20, 'c': 30, 'd': 40}\n",
    ">>> x.popitem()    # 파이썬 3.5 이하에서는 매번 삭제하는 키-값 쌍이 달라짐\n",
    "('a', 10)\n",
    ">>> x\n",
    "{'b': 20, 'c': 30, 'd': 40}"
   ]
  },
  {
   "cell_type": "markdown",
   "id": "75efaf9f",
   "metadata": {},
   "source": [
    ">"
   ]
  },
  {
   "cell_type": "markdown",
   "id": "b7942e50",
   "metadata": {},
   "source": [
    "# 딕셔너리의 모든 키-값 쌍을 삭제하기"
   ]
  },
  {
   "cell_type": "markdown",
   "id": "b17588b0",
   "metadata": {},
   "source": [
    "`clear()`는 딕셔너리의 모든 키값 쌍 삭제"
   ]
  },
  {
   "cell_type": "code",
   "execution_count": 38,
   "id": "916effa7",
   "metadata": {},
   "outputs": [
    {
     "data": {
      "text/plain": [
       "{}"
      ]
     },
     "execution_count": 38,
     "metadata": {},
     "output_type": "execute_result"
    }
   ],
   "source": [
    "x = {'a': 10, 'b': 20, 'c': 30, 'd': 40}\n",
    "x.clear()\n",
    "x"
   ]
  },
  {
   "cell_type": "markdown",
   "id": "bf99735d",
   "metadata": {},
   "source": [
    "## 딕셔너리에서 키의 값을 가져오기"
   ]
  },
  {
   "cell_type": "code",
   "execution_count": 40,
   "id": "65060992",
   "metadata": {},
   "outputs": [
    {
     "data": {
      "text/plain": [
       "10"
      ]
     },
     "execution_count": 40,
     "metadata": {},
     "output_type": "execute_result"
    }
   ],
   "source": [
    "x = {'a': 10, 'b': 20, 'c': 30, 'd': 40}\n",
    "x.get('a')"
   ]
  },
  {
   "cell_type": "code",
   "execution_count": 41,
   "id": "81e1c0cb",
   "metadata": {},
   "outputs": [
    {
     "data": {
      "text/plain": [
       "0"
      ]
     },
     "execution_count": 41,
     "metadata": {},
     "output_type": "execute_result"
    }
   ],
   "source": [
    "x.get('z',0)"
   ]
  },
  {
   "cell_type": "markdown",
   "id": "6c177331",
   "metadata": {},
   "source": [
    "## 딕셔너리에서 키-값 쌍을 모두 가져오기"
   ]
  },
  {
   "cell_type": "markdown",
   "id": "1bf179a8",
   "metadata": {},
   "source": [
    ">딕셔너리는 키와 값을 가져오는 다양한 메서드를 제공합니다\n",
    ">- items: 키-값 쌍을 모두 가져옴\n",
    ">- keys: 키를 모두 가져옴\n",
    ">- values: 값을 모두 가져옴"
   ]
  },
  {
   "cell_type": "code",
   "execution_count": 42,
   "id": "ec00a69c",
   "metadata": {},
   "outputs": [
    {
     "data": {
      "text/plain": [
       "dict_items([('a', 10), ('b', 20), ('c', 30), ('d', 40)])"
      ]
     },
     "execution_count": 42,
     "metadata": {},
     "output_type": "execute_result"
    }
   ],
   "source": [
    "x = {'a': 10, 'b': 20, 'c': 30, 'd': 40}\n",
    "x.items()"
   ]
  },
  {
   "cell_type": "code",
   "execution_count": 43,
   "id": "5b6858af",
   "metadata": {},
   "outputs": [
    {
     "data": {
      "text/plain": [
       "dict_items([('a', 10), ('b', 20), ('c', 30), ('d', 40)])"
      ]
     },
     "execution_count": 43,
     "metadata": {},
     "output_type": "execute_result"
    }
   ],
   "source": [
    "x = {'a': 10, 'b': 20, 'c': 30, 'd': 40}\n",
    "x.items()"
   ]
  },
  {
   "cell_type": "code",
   "execution_count": 44,
   "id": "aaf34b5b",
   "metadata": {},
   "outputs": [
    {
     "data": {
      "text/plain": [
       "dict_keys(['a', 'b', 'c', 'd'])"
      ]
     },
     "execution_count": 44,
     "metadata": {},
     "output_type": "execute_result"
    }
   ],
   "source": [
    "x.keys()"
   ]
  },
  {
   "cell_type": "code",
   "execution_count": 45,
   "id": "b985b043",
   "metadata": {},
   "outputs": [
    {
     "data": {
      "text/plain": [
       "dict_values([10, 20, 30, 40])"
      ]
     },
     "execution_count": 45,
     "metadata": {},
     "output_type": "execute_result"
    }
   ],
   "source": [
    "x.values()"
   ]
  },
  {
   "cell_type": "markdown",
   "id": "2c98b090",
   "metadata": {},
   "source": [
    "## 리스트와 튜플로 딕셔너리 만들기"
   ]
  },
  {
   "cell_type": "markdown",
   "id": "afb4fc18",
   "metadata": {},
   "source": [
    "`dict.fromkeys(키리스트)`는 키 리스트로 딕셔너리를 생성하며 값은 모두 None으로 저장합니다."
   ]
  },
  {
   "cell_type": "code",
   "execution_count": 47,
   "id": "187ba56e",
   "metadata": {},
   "outputs": [
    {
     "data": {
      "text/plain": [
       "{'a': None, 'b': None, 'c': None, 'd': None}"
      ]
     },
     "execution_count": 47,
     "metadata": {},
     "output_type": "execute_result"
    }
   ],
   "source": [
    "keys = ['a', 'b', 'c', 'd']\n",
    "x = dict.fromkeys(keys)\n",
    "x"
   ]
  },
  {
   "cell_type": "markdown",
   "id": "a8beb14e",
   "metadata": {},
   "source": [
    "`dict.fromkeys(키리스트, 값)`처럼 키리스트와 값을 지정하면 키-값이 저장됩니다."
   ]
  },
  {
   "cell_type": "code",
   "execution_count": 48,
   "id": "52368417",
   "metadata": {},
   "outputs": [
    {
     "data": {
      "text/plain": [
       "{'a': 100, 'b': 100, 'c': 100, 'd': 100}"
      ]
     },
     "execution_count": 48,
     "metadata": {},
     "output_type": "execute_result"
    }
   ],
   "source": [
    "y = dict.fromkeys(keys,100)\n",
    "y"
   ]
  },
  {
   "cell_type": "markdown",
   "id": "561bc6ed",
   "metadata": {},
   "source": [
    "__참고__ | `defaultdict` 사용하기\n",
    "> 지금까지 사용한 딕셔너리(dict)는 없는 키에 접근했을 경우 에러가 발생합니다."
   ]
  },
  {
   "cell_type": "code",
   "execution_count": null,
   "id": "62a07902",
   "metadata": {},
   "outputs": [],
   "source": [
    ">>> x = {'a': 0, 'b': 0, 'c': 0, 'd': 0}\n",
    ">>> x['z']    # 키 'z'는 없음\n",
    "Traceback (most recent call last):\n",
    "  File \"<pyshell#5>\", line 1, in <module>\n",
    "    x['z']\n",
    "KeyError: 'z'"
   ]
  },
  {
   "cell_type": "markdown",
   "id": "3b4e2e5c",
   "metadata": {},
   "source": [
    "에러가 발생하지 않게 하기 위해 `defaultdict`을 사용합니다.\n",
    "`defaultdict` 는 없는 키에 접근하더라도 에러가 발생하지 않으며 기본값을 반환합니다.\n",
    "`defaultdict`는 `collections` 모듈에 들어있으며 기본값 생성 함수를 넣습니다."
   ]
  },
  {
   "cell_type": "markdown",
   "id": "a1dbdcd9",
   "metadata": {},
   "source": [
    "__defaultdict(기본값생성함수)__\n",
    "다음은 기본값이 0인 `defaultdict` 딕셔너리를 만듭니다."
   ]
  },
  {
   "cell_type": "code",
   "execution_count": 49,
   "id": "5a1d457d",
   "metadata": {},
   "outputs": [],
   "source": [
    ">>> from collections import defaultdict    # collections 모듈에서 defaultdict를 가져옴\n",
    ">>> y = defaultdict(int)    # int로 기본값 생성"
   ]
  },
  {
   "cell_type": "markdown",
   "id": "534ded1c",
   "metadata": {},
   "source": [
    "딕셔너리 y에는 키 'z'가 없지만 y['z']와 같이 키의 값을 가져와보면 0이 나옵니다. 왜냐하면 기본값을 0으로 설정했기 때문입니다."
   ]
  },
  {
   "cell_type": "code",
   "execution_count": 50,
   "id": "90a3113d",
   "metadata": {},
   "outputs": [
    {
     "data": {
      "text/plain": [
       "0"
      ]
     },
     "execution_count": 50,
     "metadata": {},
     "output_type": "execute_result"
    }
   ],
   "source": [
    ">>> y['z']"
   ]
  },
  {
   "cell_type": "markdown",
   "id": "12e5df26",
   "metadata": {},
   "source": [
    "defaultdict(int)처럼 int를 넣었는데 기본값이 왜 0인지 의문이 생길 수도 있습니다. int는 실수나 문자열을 정수로 변환하지만, 다음과 같이 int에 아무것도 넣지 않고 호출하면 0을 반환합니다."
   ]
  },
  {
   "cell_type": "code",
   "execution_count": 51,
   "id": "dbc6e470",
   "metadata": {},
   "outputs": [
    {
     "data": {
      "text/plain": [
       "0"
      ]
     },
     "execution_count": 51,
     "metadata": {},
     "output_type": "execute_result"
    }
   ],
   "source": [
    ">>> int()"
   ]
  },
  {
   "cell_type": "markdown",
   "id": "1c84bce5",
   "metadata": {},
   "source": [
    "defaultdict에는 특정 값을 반환하는 함수를 넣어주면 되는데, defaultdict(int)는 기본값 생성 함수로 int를 지정하여 0이 나오도록 만든 것입니다.\n",
    "\n",
    "0이 아닌 다른 값을 기본값으로 설정하고 싶다면 다음과 같이 기본값 생성 함수를 만들어서 넣어주면 됩니다."
   ]
  },
  {
   "cell_type": "markdown",
   "id": "2d30c5b8",
   "metadata": {},
   "source": [
    "defaultdict에는 특정 값을 반환하는 함수를 넣어주면 되는데, defaultdict(int)는 기본값 생성 함수로 int를 지정하여 0이 나오도록 만든 것입니다.\n",
    "\n",
    "0이 아닌 다른 값을 기본값으로 설정하고 싶다면 다음과 같이 기본값 생성 함수를 만들어서 넣어주면 됩니다."
   ]
  },
  {
   "cell_type": "code",
   "execution_count": null,
   "id": "75660b00",
   "metadata": {},
   "outputs": [],
   "source": [
    ">>> z = defaultdict(lambda: 'python')\n",
    ">>> z['a']\n",
    "'python'\n",
    ">>> z[0]\n",
    "'python'"
   ]
  },
  {
   "cell_type": "markdown",
   "id": "8b76f695",
   "metadata": {},
   "source": [
    "여기서는 문자열 'python'을 반환하는 lambda: 'python'을 넣어서 'python'이 기본값이 되도록 설정했습니다. lambda는 'Unit 32 람다 표현식 사용하기'에서 자세히 설명하겠습니다."
   ]
  },
  {
   "cell_type": "markdown",
   "id": "e2175f8a",
   "metadata": {},
   "source": [
    "---"
   ]
  },
  {
   "cell_type": "markdown",
   "id": "56fd9704",
   "metadata": {},
   "source": [
    "---"
   ]
  },
  {
   "cell_type": "markdown",
   "id": "f6cc86d0",
   "metadata": {},
   "source": [
    "# 세트(set) 사용하기"
   ]
  },
  {
   "cell_type": "markdown",
   "id": "b2bdf5b1",
   "metadata": {},
   "source": [
    "세트는 { } (중괄호) 안에 ,(콤마)로 구분\n",
    "- 세트 = {값1, 값2, 값3}"
   ]
  },
  {
   "cell_type": "code",
   "execution_count": 54,
   "id": "54da3972",
   "metadata": {},
   "outputs": [
    {
     "data": {
      "text/plain": [
       "{'cherry', 'grape', 'orange', 'pineapple', 'strawberry'}"
      ]
     },
     "execution_count": 54,
     "metadata": {},
     "output_type": "execute_result"
    }
   ],
   "source": [
    "fruits = {'strawberry', 'grape', 'orange', 'pineapple', 'cherry'}\n",
    "fruits"
   ]
  },
  {
   "cell_type": "markdown",
   "id": "803c4908",
   "metadata": {},
   "source": [
    "- 세트는 요소의 순서가 정해져 있지 않기 때문에(unordered) 요소의 순서가 계속 달라짐"
   ]
  },
  {
   "cell_type": "markdown",
   "id": "c00a40b5",
   "metadata": {},
   "source": [
    "- 또한 중복되지 않습니다"
   ]
  },
  {
   "cell_type": "code",
   "execution_count": 57,
   "id": "b1bf435c",
   "metadata": {},
   "outputs": [
    {
     "data": {
      "text/plain": [
       "{'cherry', 'orange'}"
      ]
     },
     "execution_count": 57,
     "metadata": {},
     "output_type": "execute_result"
    }
   ],
   "source": [
    "fruits = {'orange', 'orange', 'cherry'}\n",
    "fruits"
   ]
  },
  {
   "cell_type": "markdown",
   "id": "99562732",
   "metadata": {},
   "source": [
    "- 특히 세트는 리스트, 튜플, 딕셔너리와는 달리 [ ](대괄호)로 특정 요소만 출력할 수는 없습니다."
   ]
  },
  {
   "cell_type": "code",
   "execution_count": null,
   "id": "66554e55",
   "metadata": {},
   "outputs": [],
   "source": [
    ">>> fruits = {'strawberry', 'grape', 'orange', 'pineapple', 'cherry'}\n",
    ">>> print(fruits[0])\n",
    "Traceback (most recent call last):\n",
    "  File \"<pyshell#42>\", line 1, in <module>\n",
    "    print(fruits[0])\n",
    "TypeError: 'set' object does not support indexing\n",
    ">>> fruits['strawberry']\n",
    "Traceback (most recent call last):\n",
    "  File \"<pyshell#43>\", line 1, in <module>\n",
    "    fruits['strawberry']\n",
    "TypeError: 'set' object is not subscriptable"
   ]
  },
  {
   "cell_type": "markdown",
   "id": "5e6baef6",
   "metadata": {},
   "source": [
    "## 세트에 특정 값이 있는지 확인하기"
   ]
  },
  {
   "cell_type": "markdown",
   "id": "da5f087c",
   "metadata": {},
   "source": [
    "세트에 특정값이 있는지 확인하려면 `in`을 사용해야한다."
   ]
  },
  {
   "cell_type": "markdown",
   "id": "43f14f38",
   "metadata": {},
   "source": [
    "- 값 `in` 세트"
   ]
  },
  {
   "cell_type": "code",
   "execution_count": 58,
   "id": "2956ba14",
   "metadata": {},
   "outputs": [
    {
     "data": {
      "text/plain": [
       "True"
      ]
     },
     "execution_count": 58,
     "metadata": {},
     "output_type": "execute_result"
    }
   ],
   "source": [
    "fruits = {'strawberry', 'grape', 'orange', 'pineapple', 'cherry'}\n",
    "'orange' in fruits"
   ]
  },
  {
   "cell_type": "code",
   "execution_count": 59,
   "id": "a36ae24b",
   "metadata": {},
   "outputs": [
    {
     "data": {
      "text/plain": [
       "False"
      ]
     },
     "execution_count": 59,
     "metadata": {},
     "output_type": "execute_result"
    }
   ],
   "source": [
    "'peach' in fruits"
   ]
  },
  {
   "cell_type": "markdown",
   "id": "900e8780",
   "metadata": {},
   "source": [
    "- 값 `not in` 세트"
   ]
  },
  {
   "cell_type": "code",
   "execution_count": 60,
   "id": "a1c21186",
   "metadata": {},
   "outputs": [
    {
     "data": {
      "text/plain": [
       "True"
      ]
     },
     "execution_count": 60,
     "metadata": {},
     "output_type": "execute_result"
    }
   ],
   "source": [
    "'peach' not in fruits"
   ]
  },
  {
   "cell_type": "code",
   "execution_count": 61,
   "id": "0d3b4609",
   "metadata": {},
   "outputs": [
    {
     "data": {
      "text/plain": [
       "False"
      ]
     },
     "execution_count": 61,
     "metadata": {},
     "output_type": "execute_result"
    }
   ],
   "source": [
    "'orange' not in fruits"
   ]
  },
  {
   "cell_type": "markdown",
   "id": "7366864d",
   "metadata": {},
   "source": [
    "## set를 사용하여 세트 만들기"
   ]
  },
  {
   "cell_type": "markdown",
   "id": "551a0de4",
   "metadata": {},
   "source": [
    "- `set(반복가능한객체)`"
   ]
  },
  {
   "cell_type": "markdown",
   "id": "45917845",
   "metadata": {},
   "source": [
    "set('apple')과 같이 영문 문자열을 세트로 만들면 'apple'에서 유일한 문자인 'a', 'p', 'l', 'e'만 세트로 만들어집니다. 즉, 중복된 문자는 포함되지 않습니다."
   ]
  },
  {
   "cell_type": "code",
   "execution_count": 63,
   "id": "81877b5f",
   "metadata": {},
   "outputs": [
    {
     "data": {
      "text/plain": [
       "{'a', 'e', 'l', 'p'}"
      ]
     },
     "execution_count": 63,
     "metadata": {},
     "output_type": "execute_result"
    }
   ],
   "source": [
    "a = set('apple') # 유일한 문자만 세트로 만듦\n",
    "a"
   ]
  },
  {
   "cell_type": "code",
   "execution_count": 66,
   "id": "c2bb7759",
   "metadata": {},
   "outputs": [
    {
     "data": {
      "text/plain": [
       "{0, 1, 2, 3, 4}"
      ]
     },
     "execution_count": 66,
     "metadata": {},
     "output_type": "execute_result"
    }
   ],
   "source": [
    "b = set(range(5))\n",
    "b"
   ]
  },
  {
   "cell_type": "markdown",
   "id": "7a434cf6",
   "metadata": {},
   "source": [
    "- 단, 세트가 `{ }`를 사용한다고 해서 `c = {}`와 같이 만들면 빈 딕셔너리가 만들어지므로 주의해야 합니다. 다음과 같이 `type`을 사용하면 자료형의 종류를 알 수 있습니다."
   ]
  },
  {
   "cell_type": "markdown",
   "id": "3d061ad6",
   "metadata": {},
   "source": [
    "- `type(객체)`"
   ]
  },
  {
   "cell_type": "code",
   "execution_count": 67,
   "id": "98e5287d",
   "metadata": {},
   "outputs": [
    {
     "data": {
      "text/plain": [
       "dict"
      ]
     },
     "execution_count": 67,
     "metadata": {},
     "output_type": "execute_result"
    }
   ],
   "source": [
    "c = {}\n",
    "type(c)"
   ]
  },
  {
   "cell_type": "code",
   "execution_count": 68,
   "id": "a8fc4ce5",
   "metadata": {},
   "outputs": [
    {
     "data": {
      "text/plain": [
       "set"
      ]
     },
     "execution_count": 68,
     "metadata": {},
     "output_type": "execute_result"
    }
   ],
   "source": [
    "c = set()\n",
    "type(c)"
   ]
  },
  {
   "cell_type": "markdown",
   "id": "2c885a3d",
   "metadata": {},
   "source": [
    "__한글 문자열을 세트로 만들기__"
   ]
  },
  {
   "cell_type": "code",
   "execution_count": 69,
   "id": "bd56cedc",
   "metadata": {},
   "outputs": [
    {
     "data": {
      "text/plain": [
       "{'녕', '세', '안', '요', '하'}"
      ]
     },
     "execution_count": 69,
     "metadata": {},
     "output_type": "execute_result"
    }
   ],
   "source": [
    "set('안녕하세요')"
   ]
  },
  {
   "cell_type": "markdown",
   "id": "5ee3116d",
   "metadata": {},
   "source": [
    "__세트 안에 세트 넣기__<br>\n",
    "세트는 리스트, 딕셔너리와 달리 세트 안에 세트를 넣을 수 없습니다."
   ]
  },
  {
   "cell_type": "code",
   "execution_count": 70,
   "id": "24f32a80",
   "metadata": {},
   "outputs": [
    {
     "ename": "TypeError",
     "evalue": "unhashable type: 'set'",
     "output_type": "error",
     "traceback": [
      "\u001b[1;31m---------------------------------------------------------------------------\u001b[0m",
      "\u001b[1;31mTypeError\u001b[0m                                 Traceback (most recent call last)",
      "\u001b[1;32m~\\AppData\\Local\\Temp/ipykernel_4448/3671581217.py\u001b[0m in \u001b[0;36m<module>\u001b[1;34m\u001b[0m\n\u001b[1;32m----> 1\u001b[1;33m \u001b[0ma\u001b[0m \u001b[1;33m=\u001b[0m \u001b[1;33m{\u001b[0m\u001b[1;33m{\u001b[0m\u001b[1;36m1\u001b[0m\u001b[1;33m,\u001b[0m \u001b[1;36m2\u001b[0m\u001b[1;33m}\u001b[0m\u001b[1;33m,\u001b[0m \u001b[1;33m{\u001b[0m\u001b[1;36m3\u001b[0m\u001b[1;33m,\u001b[0m \u001b[1;36m4\u001b[0m\u001b[1;33m}\u001b[0m\u001b[1;33m}\u001b[0m\u001b[1;33m\u001b[0m\u001b[1;33m\u001b[0m\u001b[0m\n\u001b[0m",
      "\u001b[1;31mTypeError\u001b[0m: unhashable type: 'set'"
     ]
    }
   ],
   "source": [
    "a = {{1, 2}, {3, 4}}"
   ]
  },
  {
   "cell_type": "markdown",
   "id": "a2edb21e",
   "metadata": {},
   "source": [
    "__프로즌 세트__<br>\n",
    "파이썬은 내용을 변경할 수 없는 세트도 제공합니다."
   ]
  },
  {
   "cell_type": "markdown",
   "id": "8e1a8952",
   "metadata": {},
   "source": [
    "프로즌세트 = `frozenset(반복가능한객체)`"
   ]
  },
  {
   "cell_type": "code",
   "execution_count": 73,
   "id": "f9637ea2",
   "metadata": {},
   "outputs": [
    {
     "data": {
      "text/plain": [
       "frozenset({0, 1, 2, 3, 4, 5, 6, 7, 8, 9})"
      ]
     },
     "execution_count": 73,
     "metadata": {},
     "output_type": "execute_result"
    }
   ],
   "source": [
    "a = frozenset(range(10))\n",
    "a"
   ]
  },
  {
   "cell_type": "markdown",
   "id": "4ca4f867",
   "metadata": {},
   "source": [
    "이름 그대로 얼어 있는(frozen) 세트입니다. frozenset는 뒤에서 설명할 집합 연산과 메서드에서 요소를 추가하거나 삭제하는 연산, 메서드는 사용할 수 없습니다. 즉, 다음과 같이 frozenset의 요소를 변경하려고 하면 에러가 발생합니다."
   ]
  },
  {
   "cell_type": "code",
   "execution_count": null,
   "id": "11784d6b",
   "metadata": {},
   "outputs": [],
   "source": [
    ">>> a = frozenset(range(10))\n",
    ">>> a |= 10\n",
    "Traceback (most recent call last):\n",
    "  File \"<pyshell#4>\", line 1, in <module>\n",
    "    a |= 10\n",
    "TypeError: unsupported operand type(s) for |=: 'frozenset' and 'int'\n",
    ">>> a.update({10})\n",
    "Traceback (most recent call last):\n",
    "  File \"<pyshell#5>\", line 1, in <module>\n",
    "    a.update({10})\n",
    "AttributeError: 'frozenset' object has no attribute 'update'"
   ]
  },
  {
   "cell_type": "markdown",
   "id": "d3232f04",
   "metadata": {},
   "source": [
    "그런데 요소를 변경할 수 없는 frozenset는 왜 사용할까요? frozenset는 세트 안에 세트를 넣고 싶을 때 사용합니다. 다음과 같이 frozenset는 frozenset를 중첩해서 넣을 수 있습니다. 단, frozenset만 넣을 수 있고, 일반 set는 넣을 수 없습니다."
   ]
  },
  {
   "cell_type": "code",
   "execution_count": 75,
   "id": "6f9305d9",
   "metadata": {},
   "outputs": [
    {
     "data": {
      "text/plain": [
       "frozenset({frozenset({3, 4}), frozenset({1, 2})})"
      ]
     },
     "execution_count": 75,
     "metadata": {},
     "output_type": "execute_result"
    }
   ],
   "source": [
    "frozenset({frozenset({1, 2}), frozenset({3, 4})})"
   ]
  }
 ],
 "metadata": {
  "kernelspec": {
   "display_name": "Python 3 (ipykernel)",
   "language": "python",
   "name": "python3"
  },
  "language_info": {
   "codemirror_mode": {
    "name": "ipython",
    "version": 3
   },
   "file_extension": ".py",
   "mimetype": "text/x-python",
   "name": "python",
   "nbconvert_exporter": "python",
   "pygments_lexer": "ipython3",
   "version": "3.9.7"
  }
 },
 "nbformat": 4,
 "nbformat_minor": 5
}
