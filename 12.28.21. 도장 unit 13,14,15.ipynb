{
 "cells": [
  {
   "cell_type": "markdown",
   "id": "e727c7fb",
   "metadata": {},
   "source": [
    "## 혼자 도장 연습하기"
   ]
  },
  {
   "cell_type": "markdown",
   "id": "0b5bcbac",
   "metadata": {},
   "source": [
    "---"
   ]
  },
  {
   "cell_type": "markdown",
   "id": "167b9a43",
   "metadata": {},
   "source": [
    "### python If 문 Unit 13 "
   ]
  },
  {
   "cell_type": "code",
   "execution_count": 2,
   "id": "53946030",
   "metadata": {},
   "outputs": [
    {
     "name": "stdout",
     "output_type": "stream",
     "text": [
      "10입니다.\n"
     ]
    }
   ],
   "source": [
    "x = 10\n",
    "if x ==10:\n",
    "    print('10입니다.')"
   ]
  },
  {
   "cell_type": "code",
   "execution_count": 5,
   "id": "88821d3e",
   "metadata": {},
   "outputs": [],
   "source": [
    "x = 10\n",
    "if x ==10:\n",
    "    pass        # TODO: x가 10일 때 처리가 필요함"
   ]
  },
  {
   "cell_type": "code",
   "execution_count": 6,
   "id": "12c4fbf5",
   "metadata": {},
   "outputs": [
    {
     "name": "stdout",
     "output_type": "stream",
     "text": [
      "Grader than 10.\n",
      "It is 15.\n"
     ]
    }
   ],
   "source": [
    "x = 15\n",
    "\n",
    "if x >= 10:\n",
    "    print('Grader than 10.')\n",
    "\n",
    "    if x == 15:\n",
    "        print('It is 15.')\n",
    "    \n",
    "    if x ==20:\n",
    "        print(\"it is 20.\")\n",
    "    "
   ]
  },
  {
   "cell_type": "code",
   "execution_count": 11,
   "id": "b1182256",
   "metadata": {},
   "outputs": [
    {
     "name": "stdout",
     "output_type": "stream",
     "text": [
      "20\n",
      "It is 20.\n"
     ]
    }
   ],
   "source": [
    "x = int(input())\n",
    "\n",
    "if x ==10:\n",
    "    print(\"It is 10.\")\n",
    "    \n",
    "if x ==20:\n",
    "    print(\"It is 20.\")"
   ]
  },
  {
   "cell_type": "code",
   "execution_count": 12,
   "id": "5876f153",
   "metadata": {},
   "outputs": [
    {
     "name": "stdout",
     "output_type": "stream",
     "text": [
      "ok\n"
     ]
    }
   ],
   "source": [
    "#연습문제\n",
    "\n",
    "x = 5\n",
    "\n",
    "if x != 10:\n",
    "    print('ok')"
   ]
  },
  {
   "cell_type": "markdown",
   "id": "194ca983",
   "metadata": {},
   "source": [
    "---"
   ]
  },
  {
   "cell_type": "markdown",
   "id": "c0902e8d",
   "metadata": {},
   "source": [
    "### If 문 Unit 14 esle 사용"
   ]
  },
  {
   "cell_type": "code",
   "execution_count": 13,
   "id": "65306cc9",
   "metadata": {},
   "outputs": [
    {
     "name": "stdout",
     "output_type": "stream",
     "text": [
      "it is not 10.\n"
     ]
    }
   ],
   "source": [
    "x = 5\n",
    "if x ==10:\n",
    "    print('It is 10.')\n",
    "else:\n",
    "    print('it is not 10.')\n",
    "    "
   ]
  },
  {
   "cell_type": "code",
   "execution_count": 14,
   "id": "09b1fd63",
   "metadata": {},
   "outputs": [
    {
     "name": "stdout",
     "output_type": "stream",
     "text": [
      "참\n",
      "거짓\n",
      "거짓\n"
     ]
    }
   ],
   "source": [
    "if True:\n",
    "    print('참')    # True는 참\n",
    "else:\n",
    "    print('거짓')\n",
    " \n",
    "if False:\n",
    "    print('참')\n",
    "else:\n",
    "    print('거짓')    # False는 거짓\n",
    " \n",
    "if None:\n",
    "    print('참')\n",
    "else:\n",
    "    print('거짓')    # None은 거짓"
   ]
  },
  {
   "cell_type": "code",
   "execution_count": 23,
   "id": "5e23f90e",
   "metadata": {},
   "outputs": [
    {
     "name": "stdout",
     "output_type": "stream",
     "text": [
      "False\n",
      "True\n",
      "True\n",
      "True\n",
      "True\n",
      "False\n"
     ]
    }
   ],
   "source": [
    "if 0:\n",
    "    print('True')\n",
    "else:\n",
    "    print(\"False\")    # 0 is False\n",
    "\n",
    "\n",
    "if 1:\n",
    "    print(\"True\")     # 1 is True\n",
    "else:\n",
    "    print(\"False\")\n",
    "\n",
    "if 0x1F:        #16진수  // 0x1F is True\n",
    "    print('True')\n",
    "else:\n",
    "    print(\"False\")\n",
    "    \n",
    "if 0b1000:        #2진수  // 0b1000 is True\n",
    "    print(\"True\")\n",
    "else:\n",
    "    print(\"False\")\n",
    "\n",
    "if 13.5:         #실수  // 13.5 is True\n",
    "    print(\"True\")\n",
    "else:\n",
    "    print(\"False\")\n",
    "    \n",
    "if 0.0:\n",
    "    print(\"True\")\n",
    "else:\n",
    "    print(\"False\")"
   ]
  },
  {
   "cell_type": "code",
   "execution_count": 24,
   "id": "4623953c",
   "metadata": {},
   "outputs": [
    {
     "name": "stdout",
     "output_type": "stream",
     "text": [
      "참\n",
      "거짓\n"
     ]
    }
   ],
   "source": [
    "if 'Hello':    # 문자열\n",
    "    print('참')    # 문자열은 참\n",
    "else:\n",
    "    print('거짓')\n",
    " \n",
    "if '':    # 빈 문자열\n",
    "    print('참')\n",
    "else:\n",
    "    print('거짓')    # 빈 문자열은 거짓"
   ]
  },
  {
   "cell_type": "code",
   "execution_count": 25,
   "id": "0f6d185b",
   "metadata": {},
   "outputs": [
    {
     "name": "stdout",
     "output_type": "stream",
     "text": [
      "참\n",
      "참\n",
      "참\n"
     ]
    }
   ],
   "source": [
    "if not 0:\n",
    "    print('참')    # not 0은 참\n",
    " \n",
    "if not None:\n",
    "    print('참')    # None은 참\n",
    " \n",
    "if not '':\n",
    "    print('참')    # not 빈 문자열은 참"
   ]
  },
  {
   "cell_type": "markdown",
   "id": "5d39e313",
   "metadata": {},
   "source": [
    "> 참고 | True, False로 취급하는 것들\n",
    "> 다음은 파이썬 문법 중에서 False로 취급하는 것들입니다.\n",
    "> * None\n",
    "> * False\n",
    "> * 0인 숫자들: 0, 0.0, 0j\n",
    "> * 비어 있는 문자열, 리스트, 튜플, 딕셔너리, 세트: '', \"\", [], (), {}, set()\n",
    "> * 클래스 인스턴스의 __bool__(), __len__() 메서드가 0 또는 False를 반환할 때"
   ]
  },
  {
   "cell_type": "code",
   "execution_count": 26,
   "id": "80fe271a",
   "metadata": {},
   "outputs": [
    {
     "name": "stdout",
     "output_type": "stream",
     "text": [
      "참\n"
     ]
    }
   ],
   "source": [
    "x = 10\n",
    "y = 20\n",
    " \n",
    "if x == 10 and y == 20:     # x가 10이면서 y가 20일 때\n",
    "    print('참')\n",
    "else:\n",
    "    print('거짓')"
   ]
  },
  {
   "cell_type": "code",
   "execution_count": 27,
   "id": "ddab892e",
   "metadata": {},
   "outputs": [
    {
     "name": "stdout",
     "output_type": "stream",
     "text": [
      "20보다 작은 양수입니다.\n",
      "20보다 작은 양수입니다.\n",
      "20보다 작은 양수입니다.\n"
     ]
    }
   ],
   "source": [
    "if x > 0:\n",
    "    if x < 20:\n",
    "        print('20보다 작은 양수입니다.')\n",
    "\n",
    "if x > 0 and x < 20:\n",
    "    print('20보다 작은 양수입니다.')\n",
    "    \n",
    "if 0 < x < 20:\n",
    "    print('20보다 작은 양수입니다.')"
   ]
  },
  {
   "cell_type": "code",
   "execution_count": 32,
   "id": "aeb5236a",
   "metadata": {},
   "outputs": [
    {
     "name": "stdout",
     "output_type": "stream",
     "text": [
      "불합격\n"
     ]
    }
   ],
   "source": [
    "#연습문제: 합격 여부 판단하기\n",
    "\n",
    "written_test = 75\n",
    "coding_test = True\n",
    "\n",
    "if written_test >= 80 & coding_test == True:\n",
    "    print(\"합격\")\n",
    "else:\n",
    "    print(\"불합격\")"
   ]
  },
  {
   "cell_type": "markdown",
   "id": "a9ac22c3",
   "metadata": {},
   "source": [
    "---"
   ]
  },
  {
   "cell_type": "markdown",
   "id": "8e422690",
   "metadata": {},
   "source": [
    "### elif 사용하기 Unit 15"
   ]
  },
  {
   "cell_type": "code",
   "execution_count": 33,
   "id": "9baea7d4",
   "metadata": {},
   "outputs": [
    {
     "name": "stdout",
     "output_type": "stream",
     "text": [
      "10도 20도 아닙니다.\n"
     ]
    }
   ],
   "source": [
    "x = 30\n",
    " \n",
    "if x == 10:             # x가 10일 때\n",
    "    print('10입니다.')\n",
    "elif x == 20:           # x가 20일 때\n",
    "    print('20입니다.')\n",
    "else:                   # 앞의 조건식에 모두 만족하지 않을 때\n",
    "    print('10도 20도 아닙니다.')"
   ]
  },
  {
   "cell_type": "code",
   "execution_count": 10,
   "id": "56f6dcd0",
   "metadata": {},
   "outputs": [
    {
     "name": "stdout",
     "output_type": "stream",
     "text": [
      "1\n",
      "Coke\n"
     ]
    }
   ],
   "source": [
    "# 음료수 자판기 만들기\n",
    "\n",
    "button = int(input())\n",
    "\n",
    "if button ==1:\n",
    "    print(\"Coke\")\n",
    "elif button ==2:\n",
    "    print(\"Sprite\")\n",
    "elif button ==3:\n",
    "    print(\"Orange\")\n",
    "else:\n",
    "    print(\"Not exist\")"
   ]
  },
  {
   "cell_type": "code",
   "execution_count": 9,
   "id": "d250a1ef",
   "metadata": {},
   "outputs": [
    {
     "name": "stdout",
     "output_type": "stream",
     "text": [
      "30\n",
      "21~30\n"
     ]
    }
   ],
   "source": [
    "#연습문제\n",
    "#다음 소스 코드를 완성하여 변수 x가 11과 20 사이면 '11~20',\n",
    "#21과 30 사이면 '21~30', 아무것도 해당하지 않으면 '아무것도 해당하지 않음'이 출력되게 만드세요.\n",
    "\n",
    "x = int(input())\n",
    "\n",
    "if 11 <= x <= 20:\n",
    "    print(\"11~20\")\n",
    "elif 21 <= x <= 30:\n",
    "    print(\"21~30\")\n",
    "else:\n",
    "    print(\"해당하지않음\")"
   ]
  }
 ],
 "metadata": {
  "kernelspec": {
   "display_name": "Python 3 (ipykernel)",
   "language": "python",
   "name": "python3"
  },
  "language_info": {
   "codemirror_mode": {
    "name": "ipython",
    "version": 3
   },
   "file_extension": ".py",
   "mimetype": "text/x-python",
   "name": "python",
   "nbconvert_exporter": "python",
   "pygments_lexer": "ipython3",
   "version": "3.9.7"
  }
 },
 "nbformat": 4,
 "nbformat_minor": 5
}
