{
 "cells": [
  {
   "cell_type": "markdown",
   "id": "cce5aeb8",
   "metadata": {},
   "source": [
    "# Dojang Unit 16~18"
   ]
  },
  {
   "cell_type": "markdown",
   "id": "afcbaed8",
   "metadata": {},
   "source": [
    "### Unit 16 For 반복문"
   ]
  },
  {
   "cell_type": "code",
   "execution_count": 4,
   "id": "0dcc1fd5",
   "metadata": {},
   "outputs": [
    {
     "name": "stdout",
     "output_type": "stream",
     "text": [
      "Hello, World!\n",
      "Hello, World!\n",
      "Hello, World!\n",
      "Hello, World!\n",
      "Hello, World!\n"
     ]
    }
   ],
   "source": [
    "for i in range(5):\n",
    "    print(\"Hello, World!\")"
   ]
  },
  {
   "cell_type": "code",
   "execution_count": 13,
   "id": "9133cfbf",
   "metadata": {},
   "outputs": [
    {
     "name": "stdout",
     "output_type": "stream",
     "text": [
      "Hello, World! - i: 0\n",
      "Hello, World! - i: 1\n",
      "Hello, World! - i: 2\n",
      "Hello, World! - i: 3\n",
      "Hello, World! - i: 4\n"
     ]
    }
   ],
   "source": [
    "for i in range(5):\n",
    "    print(\"Hello, World! - i:\",i)"
   ]
  },
  {
   "cell_type": "code",
   "execution_count": 14,
   "id": "6a221b1a",
   "metadata": {},
   "outputs": [
    {
     "name": "stdout",
     "output_type": "stream",
     "text": [
      "Hello, World! - i: 5\n",
      "Hello, World! - i: 6\n",
      "Hello, World! - i: 7\n",
      "Hello, World! - i: 8\n",
      "Hello, World! - i: 9\n",
      "Hello, World! - i: 10\n"
     ]
    }
   ],
   "source": [
    "for i in range(5,11):\n",
    "    print(\"Hello, World! - i:\",i)"
   ]
  },
  {
   "cell_type": "code",
   "execution_count": 15,
   "id": "e9f00f67",
   "metadata": {},
   "outputs": [
    {
     "name": "stdout",
     "output_type": "stream",
     "text": [
      "Hello, World! -i: 0\n",
      "Hello, World! -i: 2\n",
      "Hello, World! -i: 4\n",
      "Hello, World! -i: 6\n",
      "Hello, World! -i: 8\n"
     ]
    }
   ],
   "source": [
    "for i in range(0,10,2):\n",
    "    print(\"Hello, World! -i:\",i)"
   ]
  },
  {
   "cell_type": "markdown",
   "id": "e4dc1594",
   "metadata": {},
   "source": [
    "> range(처음, 끝, 증가폭)"
   ]
  },
  {
   "cell_type": "code",
   "execution_count": 19,
   "id": "84893e49",
   "metadata": {},
   "outputs": [],
   "source": [
    "for i in range(5, 0):\n",
    "    print(\"Hello World! -i:\",i)"
   ]
  },
  {
   "cell_type": "code",
   "execution_count": 18,
   "id": "0a86ffd6",
   "metadata": {},
   "outputs": [
    {
     "name": "stdout",
     "output_type": "stream",
     "text": [
      "Hello World! -i: 5\n",
      "Hello World! -i: 4\n",
      "Hello World! -i: 3\n",
      "Hello World! -i: 2\n",
      "Hello World! -i: 1\n"
     ]
    }
   ],
   "source": [
    "for i in range(5,0,-1):\n",
    "    print(\"Hello World! -i:\",i)"
   ]
  },
  {
   "cell_type": "code",
   "execution_count": 21,
   "id": "1b8e02d1",
   "metadata": {},
   "outputs": [
    {
     "name": "stdout",
     "output_type": "stream",
     "text": [
      "Hello, World! -i: 4\n",
      "Hello, World! -i: 3\n",
      "Hello, World! -i: 2\n",
      "Hello, World! -i: 1\n",
      "Hello, World! -i: 0\n"
     ]
    }
   ],
   "source": [
    "for i in reversed(range(5)):\n",
    "    print(\"Hello, World! -i:\", i)"
   ]
  },
  {
   "cell_type": "code",
   "execution_count": 23,
   "id": "fc8e2711",
   "metadata": {},
   "outputs": [
    {
     "name": "stdout",
     "output_type": "stream",
     "text": [
      "반복할 횟수를 입력하세요: 3\n",
      "Hello, World! i: 0\n",
      "Hello, World! i: 1\n",
      "Hello, World! i: 2\n"
     ]
    }
   ],
   "source": [
    "count = int(input(\"반복할 횟수를 입력하세요: \"))\n",
    "for i in range(count):\n",
    "    print('Hello, World! i:',i)"
   ]
  },
  {
   "cell_type": "markdown",
   "id": "dd6549eb",
   "metadata": {},
   "source": [
    "### 시퀸스 객체로 반복하기"
   ]
  },
  {
   "cell_type": "code",
   "execution_count": 25,
   "id": "5ff0f348",
   "metadata": {},
   "outputs": [
    {
     "name": "stdout",
     "output_type": "stream",
     "text": [
      "10\n",
      "20\n",
      "30\n",
      "40\n",
      "50\n"
     ]
    }
   ],
   "source": [
    "a = [10,20,30,40,50]\n",
    "for i in a:\n",
    "    print(i)"
   ]
  },
  {
   "cell_type": "code",
   "execution_count": 28,
   "id": "dda77148",
   "metadata": {},
   "outputs": [
    {
     "name": "stdout",
     "output_type": "stream",
     "text": [
      "apple\n",
      "orange\n",
      "grape\n"
     ]
    }
   ],
   "source": [
    "fruits = ('apple', 'orange', 'grape')\n",
    "for fruits in fruits:\n",
    "    print(fruits)"
   ]
  },
  {
   "cell_type": "code",
   "execution_count": 29,
   "id": "199d6e47",
   "metadata": {},
   "outputs": [
    {
     "name": "stdout",
     "output_type": "stream",
     "text": [
      "P y t h o n "
     ]
    }
   ],
   "source": [
    "for letter in 'Python':\n",
    "    print(letter, end=' ')"
   ]
  },
  {
   "cell_type": "code",
   "execution_count": 30,
   "id": "401bd0f6",
   "metadata": {},
   "outputs": [
    {
     "name": "stdout",
     "output_type": "stream",
     "text": [
      "n o h t y P "
     ]
    }
   ],
   "source": [
    "for letter in reversed('Python'):\n",
    "    print(letter, end=' ')"
   ]
  },
  {
   "cell_type": "code",
   "execution_count": 33,
   "id": "0015e78f",
   "metadata": {},
   "outputs": [
    {
     "name": "stdout",
     "output_type": "stream",
     "text": [
      "490 -170 250 1020 80 620 210 "
     ]
    }
   ],
   "source": [
    "#연습문제: 리스트의 요소에 10을 곱해서 출력하기\n",
    "\n",
    "x = [49,-17, 25, 102, 8, 62, 21]\n",
    "for i in x:\n",
    "    print(i*10, end=' ')"
   ]
  },
  {
   "cell_type": "markdown",
   "id": "9af179c5",
   "metadata": {},
   "source": [
    "---"
   ]
  },
  {
   "cell_type": "markdown",
   "id": "69d6112b",
   "metadata": {},
   "source": [
    "# Unit 17"
   ]
  },
  {
   "cell_type": "markdown",
   "id": "31ecbb4c",
   "metadata": {},
   "source": [
    "### While 문 반복사용"
   ]
  },
  {
   "cell_type": "code",
   "execution_count": 35,
   "id": "215a5d7b",
   "metadata": {},
   "outputs": [
    {
     "name": "stdout",
     "output_type": "stream",
     "text": [
      "Hello, world!\n"
     ]
    }
   ],
   "source": [
    "i = 0                     # 초기식\n",
    "while i < 5:            # while 조건식\n",
    "     print('Hello, world!')    # 반복할 코드\n",
    "     i += 1                    # 변화식"
   ]
  },
  {
   "cell_type": "code",
   "execution_count": 39,
   "id": "a74f24e6",
   "metadata": {},
   "outputs": [
    {
     "name": "stdout",
     "output_type": "stream",
     "text": [
      "Hello, world! i: 0\n",
      "Hello, world! i: 1\n",
      "Hello, world! i: 2\n",
      "Hello, world! i: 3\n",
      "Hello, world! i: 4\n"
     ]
    }
   ],
   "source": [
    "i = 0\n",
    "while i < 5:\n",
    "    print('Hello, world! i:',i)\n",
    "    i += 1"
   ]
  },
  {
   "cell_type": "code",
   "execution_count": 40,
   "id": "8187c5a6",
   "metadata": {},
   "outputs": [
    {
     "name": "stdout",
     "output_type": "stream",
     "text": [
      "Hello, World! i: 1\n",
      "Hello, World! i: 2\n",
      "Hello, World! i: 3\n",
      "Hello, World! i: 4\n",
      "Hello, World! i: 5\n"
     ]
    }
   ],
   "source": [
    "i = 1\n",
    "while i <=5:\n",
    "    print(\"Hello, World! i:\",i)\n",
    "    i += 1"
   ]
  },
  {
   "cell_type": "code",
   "execution_count": 42,
   "id": "838bbbdf",
   "metadata": {},
   "outputs": [
    {
     "name": "stdout",
     "output_type": "stream",
     "text": [
      "Hello, World! i: 5\n",
      "Hello, World! i: 4\n",
      "Hello, World! i: 3\n",
      "Hello, World! i: 2\n",
      "Hello, World! i: 1\n"
     ]
    }
   ],
   "source": [
    "i = 5\n",
    "while i > 0:\n",
    "    print(\"Hello, World! i:\",i)\n",
    "    i -= 1"
   ]
  },
  {
   "cell_type": "code",
   "execution_count": null,
   "id": "17e80d5a",
   "metadata": {},
   "outputs": [],
   "source": [
    "whi"
   ]
  },
  {
   "cell_type": "code",
   "execution_count": 44,
   "id": "5b1c4ecc",
   "metadata": {},
   "outputs": [
    {
     "name": "stdout",
     "output_type": "stream",
     "text": [
      "반복할 횟수를 입력하세요: 3\n",
      "Hello, world! i: 0\n",
      "Hello, world! i: 1\n",
      "Hello, world! i: 2\n"
     ]
    }
   ],
   "source": [
    "count = int(input(\"반복할 횟수를 입력하세요: \"))\n",
    "\n",
    "i = 0\n",
    "while i < count:      #i 가 count보다 작을 때 반복\n",
    "    print(\"Hello, world! i:\", i)\n",
    "    i+=1"
   ]
  },
  {
   "cell_type": "code",
   "execution_count": 45,
   "id": "10234698",
   "metadata": {},
   "outputs": [
    {
     "name": "stdout",
     "output_type": "stream",
     "text": [
      "Hello, Wolrd! i: 3\n",
      "Hello, Wolrd! i: 2\n",
      "Hello, Wolrd! i: 1\n"
     ]
    }
   ],
   "source": [
    "while count > 0:          #count가 0보다 클 때 반복\n",
    "    print(\"Hello, Wolrd! i:\",count)\n",
    "    count -=1             #count를 1씩 감소시킴"
   ]
  },
  {
   "cell_type": "markdown",
   "id": "6c4da811",
   "metadata": {},
   "source": [
    "### 반복 횟수가 정해지지 않은 경우"
   ]
  },
  {
   "cell_type": "code",
   "execution_count": 46,
   "id": "054d216a",
   "metadata": {},
   "outputs": [],
   "source": [
    "import random        # random 모듈을 가져옴"
   ]
  },
  {
   "cell_type": "code",
   "execution_count": 48,
   "id": "719418a5",
   "metadata": {},
   "outputs": [
    {
     "data": {
      "text/plain": [
       "0.19389191392492822"
      ]
     },
     "execution_count": 48,
     "metadata": {},
     "output_type": "execute_result"
    }
   ],
   "source": [
    "random.random()"
   ]
  },
  {
   "cell_type": "code",
   "execution_count": 49,
   "id": "43752a8b",
   "metadata": {},
   "outputs": [
    {
     "data": {
      "text/plain": [
       "0.9394073985594225"
      ]
     },
     "execution_count": 49,
     "metadata": {},
     "output_type": "execute_result"
    }
   ],
   "source": [
    "random.random()"
   ]
  },
  {
   "cell_type": "code",
   "execution_count": 52,
   "id": "f8cc3ce3",
   "metadata": {},
   "outputs": [
    {
     "data": {
      "text/plain": [
       "4"
      ]
     },
     "execution_count": 52,
     "metadata": {},
     "output_type": "execute_result"
    }
   ],
   "source": [
    "random.randint(1,6)"
   ]
  },
  {
   "cell_type": "code",
   "execution_count": 53,
   "id": "90a041c8",
   "metadata": {},
   "outputs": [
    {
     "data": {
      "text/plain": [
       "1"
      ]
     },
     "execution_count": 53,
     "metadata": {},
     "output_type": "execute_result"
    }
   ],
   "source": [
    "random.randint(1,6)"
   ]
  },
  {
   "cell_type": "markdown",
   "id": "32094198",
   "metadata": {},
   "source": [
    "> random.randint(a,b) [a,b 사이의 난수]"
   ]
  },
  {
   "cell_type": "code",
   "execution_count": 59,
   "id": "fb9a450c",
   "metadata": {},
   "outputs": [
    {
     "name": "stdout",
     "output_type": "stream",
     "text": [
      "6\n",
      "1\n",
      "6\n",
      "3\n"
     ]
    }
   ],
   "source": [
    "import random # random 모듈을 가져옴\n",
    "\n",
    "i = 0\n",
    "while i !=3:       # 3이 아닐 때 계속 반복\n",
    "    i = random.randint(1,6)    #randint을 사용하여 1과 6 사이의 난수를 생성\n",
    "    print(i)"
   ]
  },
  {
   "cell_type": "code",
   "execution_count": 66,
   "id": "04b3d964",
   "metadata": {},
   "outputs": [
    {
     "data": {
      "text/plain": [
       "2"
      ]
     },
     "execution_count": 66,
     "metadata": {},
     "output_type": "execute_result"
    }
   ],
   "source": [
    "dice = [1,2,3,4,5,6]\n",
    "random.choice(dice)"
   ]
  },
  {
   "cell_type": "code",
   "execution_count": 67,
   "id": "4448b8d1",
   "metadata": {},
   "outputs": [
    {
     "data": {
      "text/plain": [
       "4"
      ]
     },
     "execution_count": 67,
     "metadata": {},
     "output_type": "execute_result"
    }
   ],
   "source": [
    "random.choice(dice)"
   ]
  },
  {
   "cell_type": "code",
   "execution_count": 78,
   "id": "2a653434",
   "metadata": {},
   "outputs": [
    {
     "data": {
      "text/plain": [
       "1"
      ]
     },
     "execution_count": 78,
     "metadata": {},
     "output_type": "execute_result"
    }
   ],
   "source": [
    "random.choice(dice)"
   ]
  },
  {
   "cell_type": "markdown",
   "id": "5ecbadd9",
   "metadata": {},
   "source": [
    "### while 반복문으로 무한 루프 만들기"
   ]
  },
  {
   "cell_type": "code",
   "execution_count": 80,
   "id": "d6f1c0f9",
   "metadata": {},
   "outputs": [],
   "source": [
    "while True:      # while 에 True를 지정하면 무한 루프\n",
    "    print(\"Hello, world!\")"
   ]
  },
  {
   "cell_type": "markdown",
   "id": "bef5d4b9",
   "metadata": {},
   "source": [
    "> \"True\" 의 'T\" 는 반드시 대문자 여야 한다."
   ]
  },
  {
   "cell_type": "code",
   "execution_count": null,
   "id": "8c865f8f",
   "metadata": {},
   "outputs": [],
   "source": [
    "while 1:      #0이 아닌 숫자는 True로 취급하여 무한 루프 동작\n",
    "    print(\"Hello, World!\")"
   ]
  },
  {
   "cell_type": "code",
   "execution_count": null,
   "id": "3cf26354",
   "metadata": {},
   "outputs": [],
   "source": [
    "while 'Hello':    #내용이 있는 문자열은 True로 취급하여 무한 루프로 동작\n",
    "    print(\"Hello, world!\")"
   ]
  },
  {
   "cell_type": "code",
   "execution_count": 83,
   "id": "b4df139c",
   "metadata": {},
   "outputs": [
    {
     "name": "stdout",
     "output_type": "stream",
     "text": [
      "2 5\n",
      "4 4\n",
      "8 3\n",
      "16 2\n",
      "32 1\n"
     ]
    }
   ],
   "source": [
    "#연습문제: 변수 두 개를 다르게 반복하기\n",
    "#정수 2 5, 4 4, 8  3, 16 2, 32 1, 이 각 줄에 출력되게 만드시오.\n",
    "\n",
    "i = 2\n",
    "j = 5\n",
    "while i <= 32 or j >=1:\n",
    "    print(i, j)\n",
    "    i *= 2\n",
    "    j -= 1"
   ]
  },
  {
   "cell_type": "markdown",
   "id": "95e8594c",
   "metadata": {},
   "source": [
    "---"
   ]
  },
  {
   "cell_type": "markdown",
   "id": "942f97a1",
   "metadata": {},
   "source": [
    "# Unit 18"
   ]
  },
  {
   "cell_type": "markdown",
   "id": "b4ddae2e",
   "metadata": {},
   "source": [
    "### break로 반복문 끝내기"
   ]
  },
  {
   "cell_type": "markdown",
   "id": "400aaa9f",
   "metadata": {},
   "source": [
    ">break 와 continue 는 비슷하지만, 흐름을 중단/유지 라는 차이점이 있다."
   ]
  },
  {
   "cell_type": "code",
   "execution_count": 86,
   "id": "2f2197f8",
   "metadata": {},
   "outputs": [
    {
     "name": "stdout",
     "output_type": "stream",
     "text": [
      "0\n",
      "1\n",
      "2\n"
     ]
    }
   ],
   "source": [
    "i = 0\n",
    "while True:      #무한루프\n",
    "    print(i)\n",
    "    i+=1\n",
    "    if i == 3:    # i가 3일 때\n",
    "        break     # 반복문 끝남. while의 제어흐름을 벗어남"
   ]
  },
  {
   "cell_type": "code",
   "execution_count": 88,
   "id": "e69972e7",
   "metadata": {},
   "outputs": [
    {
     "name": "stdout",
     "output_type": "stream",
     "text": [
      "0\n",
      "1\n",
      "2\n",
      "3\n"
     ]
    }
   ],
   "source": [
    "# for에서 break으로 반복문 끝내기\n",
    "for i in range(10000):     # 0부터 9999까지 반복\n",
    "    print(i)\n",
    "    if i == 3:           # i가 3일 때\n",
    "        break"
   ]
  },
  {
   "cell_type": "markdown",
   "id": "df9f038d",
   "metadata": {},
   "source": [
    "### continue로 코드 실행 건너뛰기"
   ]
  },
  {
   "cell_type": "code",
   "execution_count": 89,
   "id": "e8b44e15",
   "metadata": {},
   "outputs": [
    {
     "name": "stdout",
     "output_type": "stream",
     "text": [
      "1\n",
      "3\n"
     ]
    }
   ],
   "source": [
    "#홀수만 뽑기\n",
    "for i in range(5):\n",
    "    if i % 2 ==0:          #나머지가 0 (짝수를 뜻)\n",
    "        continue          #아래 코드를 실행하지 않고 건너 뜀\n",
    "    print(i)"
   ]
  },
  {
   "cell_type": "code",
   "execution_count": 91,
   "id": "15b3aab0",
   "metadata": {},
   "outputs": [
    {
     "name": "stdout",
     "output_type": "stream",
     "text": [
      "1\n",
      "3\n",
      "5\n"
     ]
    }
   ],
   "source": [
    "#while 반목문에서 continue로 코드 실행 건너뛰기\n",
    "i = 0\n",
    "while i < 5:    #i가 5보다 작을 때 반복. 0부터 5까지 증가하면서 반복\n",
    "    i+=1\n",
    "    if i % 2 == 0:\n",
    "        continue\n",
    "    print(i)"
   ]
  },
  {
   "cell_type": "markdown",
   "id": "1c4161e8",
   "metadata": {},
   "source": [
    "> for, while의 반복할 코드에서 아무 일도 하지 않지만, 반복문의 형태를 유지하고 싶다면, pass를 사용하면 된다."
   ]
  },
  {
   "cell_type": "code",
   "execution_count": 94,
   "id": "cf063f1b",
   "metadata": {},
   "outputs": [],
   "source": [
    "for i in range(10):   #10번 반복\n",
    "    pass           #아무 일도 하지 않음"
   ]
  },
  {
   "cell_type": "markdown",
   "id": "0caf2c10",
   "metadata": {},
   "source": [
    "### 입력한 횟수대로 반복하기"
   ]
  },
  {
   "cell_type": "code",
   "execution_count": 96,
   "id": "a7c52c4e",
   "metadata": {},
   "outputs": [
    {
     "name": "stdout",
     "output_type": "stream",
     "text": [
      "반복할 횟수를 입력하세요: 3\n",
      "0\n",
      "1\n",
      "2\n"
     ]
    }
   ],
   "source": [
    "count = int(input('반복할 횟수를 입력하세요: '))\n",
    "i = 0\n",
    "while True:    #무한루프\n",
    "    print(i)\n",
    "    i+= 1\n",
    "    if i == count:   #i가 입력받은 값과 같을 때\n",
    "        break        #반복문을 끝냄"
   ]
  },
  {
   "cell_type": "code",
   "execution_count": 99,
   "id": "327f7520",
   "metadata": {},
   "outputs": [
    {
     "name": "stdout",
     "output_type": "stream",
     "text": [
      "반복할 횟수를 입력하세요: 5\n",
      "1\n",
      "3\n",
      "5\n"
     ]
    }
   ],
   "source": [
    "#홀수 출력\n",
    "count = int(input('반복할 횟수를 입력하세요: '))\n",
    "for i in range(count + 1):    #0부터 증가하면서 count까지 반복(count+1)\n",
    "    if i %2 ==0:              #짝수면\n",
    "        continue             #아래 코드를 진행하지 않고 건너 뜀\n",
    "    print(i)"
   ]
  },
  {
   "cell_type": "code",
   "execution_count": 100,
   "id": "7914fe87",
   "metadata": {},
   "outputs": [
    {
     "name": "stdout",
     "output_type": "stream",
     "text": [
      "3 13 23 33 43 53 63 73 "
     ]
    }
   ],
   "source": [
    "#연습문제: 3으로 끝내는 숫자만 출력하기\n",
    "# 0과 73 사이의 숫자 중 3으로 끝나는 숫자만 출력되게 하라.\n",
    "i = 0\n",
    "while True:\n",
    "    if i % 10 != 3:\n",
    "        i+=1\n",
    "        continue\n",
    "    if i > 73:\n",
    "        break\n",
    "    print(i, end = ' ')\n",
    "    i+=1"
   ]
  },
  {
   "cell_type": "markdown",
   "id": "13db65bd",
   "metadata": {},
   "source": [
    "---"
   ]
  }
 ],
 "metadata": {
  "kernelspec": {
   "display_name": "Python 3 (ipykernel)",
   "language": "python",
   "name": "python3"
  },
  "language_info": {
   "codemirror_mode": {
    "name": "ipython",
    "version": 3
   },
   "file_extension": ".py",
   "mimetype": "text/x-python",
   "name": "python",
   "nbconvert_exporter": "python",
   "pygments_lexer": "ipython3",
   "version": "3.9.7"
  }
 },
 "nbformat": 4,
 "nbformat_minor": 5
}
